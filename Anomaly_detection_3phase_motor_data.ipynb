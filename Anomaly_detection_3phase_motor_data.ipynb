{
 "cells": [
  {
   "cell_type": "markdown",
   "id": "e90fc1d0",
   "metadata": {},
   "source": [
    "### Importing required Libraries"
   ]
  },
  {
   "cell_type": "code",
   "execution_count": 65,
   "id": "e5c6ca6c",
   "metadata": {},
   "outputs": [],
   "source": [
    "import os\n",
    "import pandas as pd\n",
    "import numpy as np\n",
    "from warnings import filterwarnings\n",
    "filterwarnings(\"ignore\")"
   ]
  },
  {
   "cell_type": "markdown",
   "id": "311c71d9",
   "metadata": {},
   "source": [
    "### Converting All text data files into single file"
   ]
  },
  {
   "cell_type": "code",
   "execution_count": 66,
   "id": "55b9e8f3",
   "metadata": {},
   "outputs": [],
   "source": [
    "path = \"/home/Kapil/anomaly_detection/s3Files/\"\n",
    "os.chdir(path)"
   ]
  },
  {
   "cell_type": "code",
   "execution_count": 67,
   "id": "0175b14c",
   "metadata": {},
   "outputs": [],
   "source": [
    "final = open(\"final.txt\",\"a+\") "
   ]
  },
  {
   "cell_type": "code",
   "execution_count": 68,
   "id": "1e1adcdf",
   "metadata": {},
   "outputs": [],
   "source": [
    "def read_write_file(file_path):\n",
    "    with open(file_path, 'r') as f:\n",
    "        final.write(f.read())"
   ]
  },
  {
   "cell_type": "code",
   "execution_count": 69,
   "id": "64d43ff8",
   "metadata": {},
   "outputs": [],
   "source": [
    "for file in os.listdir():\n",
    "    if file.endswith(\".txt\"):\n",
    "        file_path = f\"{path}/{file}\"\n",
    "        read_write_file(file_path)"
   ]
  },
  {
   "cell_type": "markdown",
   "id": "30aaae49",
   "metadata": {},
   "source": [
    "### Reading final text file as pandas dataframe"
   ]
  },
  {
   "cell_type": "code",
   "execution_count": 70,
   "id": "783290c5",
   "metadata": {},
   "outputs": [],
   "source": [
    "df = pd.read_csv(\"/home/bluehole/Kapil/anomaly_detection/s3Files/final.txt\",sep=\",\",index_col=None,header=None)"
   ]
  },
  {
   "cell_type": "code",
   "execution_count": 71,
   "id": "c99e7ddc",
   "metadata": {},
   "outputs": [
    {
     "data": {
      "text/html": [
       "<div>\n",
       "<style scoped>\n",
       "    .dataframe tbody tr th:only-of-type {\n",
       "        vertical-align: middle;\n",
       "    }\n",
       "\n",
       "    .dataframe tbody tr th {\n",
       "        vertical-align: top;\n",
       "    }\n",
       "\n",
       "    .dataframe thead th {\n",
       "        text-align: right;\n",
       "    }\n",
       "</style>\n",
       "<table border=\"1\" class=\"dataframe\">\n",
       "  <thead>\n",
       "    <tr style=\"text-align: right;\">\n",
       "      <th></th>\n",
       "      <th>0</th>\n",
       "      <th>1</th>\n",
       "      <th>2</th>\n",
       "      <th>3</th>\n",
       "      <th>4</th>\n",
       "    </tr>\n",
       "  </thead>\n",
       "  <tbody>\n",
       "    <tr>\n",
       "      <th>0</th>\n",
       "      <td>NaN</td>\n",
       "      <td>1767</td>\n",
       "      <td>2425</td>\n",
       "      <td>384</td>\n",
       "      <td>NaN</td>\n",
       "    </tr>\n",
       "    <tr>\n",
       "      <th>1</th>\n",
       "      <td>NaN</td>\n",
       "      <td>1757</td>\n",
       "      <td>2423</td>\n",
       "      <td>757</td>\n",
       "      <td>NaN</td>\n",
       "    </tr>\n",
       "    <tr>\n",
       "      <th>2</th>\n",
       "      <td>NaN</td>\n",
       "      <td>1732</td>\n",
       "      <td>2218</td>\n",
       "      <td>759</td>\n",
       "      <td>NaN</td>\n",
       "    </tr>\n",
       "    <tr>\n",
       "      <th>3</th>\n",
       "      <td>NaN</td>\n",
       "      <td>1732</td>\n",
       "      <td>2212</td>\n",
       "      <td>765</td>\n",
       "      <td>NaN</td>\n",
       "    </tr>\n",
       "    <tr>\n",
       "      <th>4</th>\n",
       "      <td>NaN</td>\n",
       "      <td>1739</td>\n",
       "      <td>2210</td>\n",
       "      <td>769</td>\n",
       "      <td>NaN</td>\n",
       "    </tr>\n",
       "  </tbody>\n",
       "</table>\n",
       "</div>"
      ],
      "text/plain": [
       "    0     1     2    3   4\n",
       "0 NaN  1767  2425  384 NaN\n",
       "1 NaN  1757  2423  757 NaN\n",
       "2 NaN  1732  2218  759 NaN\n",
       "3 NaN  1732  2212  765 NaN\n",
       "4 NaN  1739  2210  769 NaN"
      ]
     },
     "execution_count": 71,
     "metadata": {},
     "output_type": "execute_result"
    }
   ],
   "source": [
    "df.head()"
   ]
  },
  {
   "cell_type": "markdown",
   "id": "a99c7ceb",
   "metadata": {},
   "source": [
    "### Preprocessing and Feature Selection"
   ]
  },
  {
   "cell_type": "code",
   "execution_count": 72,
   "id": "606aad07",
   "metadata": {},
   "outputs": [],
   "source": [
    "df.drop([0,4],axis=1,inplace=True)"
   ]
  },
  {
   "cell_type": "code",
   "execution_count": 73,
   "id": "91cf1e6f",
   "metadata": {},
   "outputs": [],
   "source": [
    "df.rename(columns={1:'current',2:'current_signature_analysis',3:'VI_analysis'},inplace=True)"
   ]
  },
  {
   "cell_type": "code",
   "execution_count": 74,
   "id": "312e89ad",
   "metadata": {},
   "outputs": [
    {
     "data": {
      "text/html": [
       "<div>\n",
       "<style scoped>\n",
       "    .dataframe tbody tr th:only-of-type {\n",
       "        vertical-align: middle;\n",
       "    }\n",
       "\n",
       "    .dataframe tbody tr th {\n",
       "        vertical-align: top;\n",
       "    }\n",
       "\n",
       "    .dataframe thead th {\n",
       "        text-align: right;\n",
       "    }\n",
       "</style>\n",
       "<table border=\"1\" class=\"dataframe\">\n",
       "  <thead>\n",
       "    <tr style=\"text-align: right;\">\n",
       "      <th></th>\n",
       "      <th>current</th>\n",
       "      <th>current_signature_analysis</th>\n",
       "      <th>VI_analysis</th>\n",
       "    </tr>\n",
       "  </thead>\n",
       "  <tbody>\n",
       "    <tr>\n",
       "      <th>0</th>\n",
       "      <td>1767</td>\n",
       "      <td>2425</td>\n",
       "      <td>384</td>\n",
       "    </tr>\n",
       "    <tr>\n",
       "      <th>1</th>\n",
       "      <td>1757</td>\n",
       "      <td>2423</td>\n",
       "      <td>757</td>\n",
       "    </tr>\n",
       "    <tr>\n",
       "      <th>2</th>\n",
       "      <td>1732</td>\n",
       "      <td>2218</td>\n",
       "      <td>759</td>\n",
       "    </tr>\n",
       "    <tr>\n",
       "      <th>3</th>\n",
       "      <td>1732</td>\n",
       "      <td>2212</td>\n",
       "      <td>765</td>\n",
       "    </tr>\n",
       "    <tr>\n",
       "      <th>4</th>\n",
       "      <td>1739</td>\n",
       "      <td>2210</td>\n",
       "      <td>769</td>\n",
       "    </tr>\n",
       "  </tbody>\n",
       "</table>\n",
       "</div>"
      ],
      "text/plain": [
       "   current  current_signature_analysis  VI_analysis\n",
       "0     1767                        2425          384\n",
       "1     1757                        2423          757\n",
       "2     1732                        2218          759\n",
       "3     1732                        2212          765\n",
       "4     1739                        2210          769"
      ]
     },
     "execution_count": 74,
     "metadata": {},
     "output_type": "execute_result"
    }
   ],
   "source": [
    "df.head()"
   ]
  },
  {
   "cell_type": "code",
   "execution_count": 75,
   "id": "726d38e8",
   "metadata": {},
   "outputs": [
    {
     "data": {
      "text/plain": [
       "(4470000, 3)"
      ]
     },
     "execution_count": 75,
     "metadata": {},
     "output_type": "execute_result"
    }
   ],
   "source": [
    "df.shape"
   ]
  },
  {
   "cell_type": "markdown",
   "id": "4d0a3d3c",
   "metadata": {},
   "source": [
    "### Splitting data into train and test set"
   ]
  },
  {
   "cell_type": "code",
   "execution_count": 76,
   "id": "f20fbe9a",
   "metadata": {},
   "outputs": [],
   "source": [
    "train = df.iloc[0:3470000]\n",
    "test = df.iloc[3470000:]"
   ]
  },
  {
   "cell_type": "markdown",
   "id": "3516a3ad",
   "metadata": {},
   "source": [
    "### Anomaly detection"
   ]
  },
  {
   "cell_type": "markdown",
   "id": "e018ec54",
   "metadata": {},
   "source": [
    "### ISOLATION FOREST"
   ]
  },
  {
   "cell_type": "code",
   "execution_count": 77,
   "id": "180e2b7c",
   "metadata": {},
   "outputs": [],
   "source": [
    "from pycaret.anomaly import *"
   ]
  },
  {
   "cell_type": "code",
   "execution_count": 78,
   "id": "c6ae6506",
   "metadata": {},
   "outputs": [],
   "source": [
    "s = setup(data = train, normalize=True)\n",
    "iforest = create_model('iforest')"
   ]
  },
  {
   "cell_type": "code",
   "execution_count": 79,
   "id": "439ed8e5",
   "metadata": {},
   "outputs": [],
   "source": [
    "iforest_results = assign_model(iforest)"
   ]
  },
  {
   "cell_type": "code",
   "execution_count": 80,
   "id": "373db556",
   "metadata": {},
   "outputs": [
    {
     "data": {
      "text/html": [
       "<div>\n",
       "<style scoped>\n",
       "    .dataframe tbody tr th:only-of-type {\n",
       "        vertical-align: middle;\n",
       "    }\n",
       "\n",
       "    .dataframe tbody tr th {\n",
       "        vertical-align: top;\n",
       "    }\n",
       "\n",
       "    .dataframe thead th {\n",
       "        text-align: right;\n",
       "    }\n",
       "</style>\n",
       "<table border=\"1\" class=\"dataframe\">\n",
       "  <thead>\n",
       "    <tr style=\"text-align: right;\">\n",
       "      <th></th>\n",
       "      <th>current</th>\n",
       "      <th>current_signature_analysis</th>\n",
       "      <th>VI_analysis</th>\n",
       "      <th>Anomaly</th>\n",
       "      <th>Anomaly_Score</th>\n",
       "    </tr>\n",
       "  </thead>\n",
       "  <tbody>\n",
       "    <tr>\n",
       "      <th>0</th>\n",
       "      <td>1767</td>\n",
       "      <td>2425</td>\n",
       "      <td>384</td>\n",
       "      <td>0</td>\n",
       "      <td>-0.056105</td>\n",
       "    </tr>\n",
       "    <tr>\n",
       "      <th>1</th>\n",
       "      <td>1757</td>\n",
       "      <td>2423</td>\n",
       "      <td>757</td>\n",
       "      <td>1</td>\n",
       "      <td>0.021140</td>\n",
       "    </tr>\n",
       "    <tr>\n",
       "      <th>2</th>\n",
       "      <td>1732</td>\n",
       "      <td>2218</td>\n",
       "      <td>759</td>\n",
       "      <td>0</td>\n",
       "      <td>-0.063526</td>\n",
       "    </tr>\n",
       "    <tr>\n",
       "      <th>3</th>\n",
       "      <td>1732</td>\n",
       "      <td>2212</td>\n",
       "      <td>765</td>\n",
       "      <td>0</td>\n",
       "      <td>-0.063360</td>\n",
       "    </tr>\n",
       "    <tr>\n",
       "      <th>4</th>\n",
       "      <td>1739</td>\n",
       "      <td>2210</td>\n",
       "      <td>769</td>\n",
       "      <td>0</td>\n",
       "      <td>-0.068516</td>\n",
       "    </tr>\n",
       "  </tbody>\n",
       "</table>\n",
       "</div>"
      ],
      "text/plain": [
       "   current  current_signature_analysis  VI_analysis  Anomaly  Anomaly_Score\n",
       "0     1767                        2425          384        0      -0.056105\n",
       "1     1757                        2423          757        1       0.021140\n",
       "2     1732                        2218          759        0      -0.063526\n",
       "3     1732                        2212          765        0      -0.063360\n",
       "4     1739                        2210          769        0      -0.068516"
      ]
     },
     "execution_count": 80,
     "metadata": {},
     "output_type": "execute_result"
    }
   ],
   "source": [
    "iforest_results.head()"
   ]
  },
  {
   "cell_type": "code",
   "execution_count": 81,
   "id": "1693dc10",
   "metadata": {},
   "outputs": [
    {
     "name": "stdout",
     "output_type": "stream",
     "text": [
      "Transformation Pipeline and Model Successfully Saved\n"
     ]
    },
    {
     "data": {
      "text/plain": [
       "(Pipeline(memory=None,\n",
       "          steps=[('dtypes',\n",
       "                  DataTypes_Auto_infer(categorical_features=[],\n",
       "                                       display_types=True, features_todrop=[],\n",
       "                                       id_columns=[], ml_usecase='regression',\n",
       "                                       numerical_features=[],\n",
       "                                       target='UNSUPERVISED_DUMMY_TARGET',\n",
       "                                       time_features=[])),\n",
       "                 ('imputer',\n",
       "                  Simple_Imputer(categorical_strategy='most frequent',\n",
       "                                 fill_value_categorical=None,\n",
       "                                 fill_value_numerical=None...\n",
       "                 ('fix_perfect', 'passthrough'),\n",
       "                 ('clean_names', Clean_Colum_Names()),\n",
       "                 ('feature_select', 'passthrough'), ('fix_multi', 'passthrough'),\n",
       "                 ('dfs', 'passthrough'), ('pca', 'passthrough'),\n",
       "                 ['trained_model',\n",
       "                  IForest(behaviour='new', bootstrap=False, contamination=0.05,\n",
       "     max_features=1.0, max_samples='auto', n_estimators=100, n_jobs=-1,\n",
       "     random_state=2446, verbose=0)]],\n",
       "          verbose=False),\n",
       " 'saved_iforest_model.pkl')"
      ]
     },
     "execution_count": 81,
     "metadata": {},
     "output_type": "execute_result"
    }
   ],
   "source": [
    "save_model(iforest, 'saved_iforest_model')"
   ]
  },
  {
   "cell_type": "code",
   "execution_count": 82,
   "id": "691b7b6c",
   "metadata": {},
   "outputs": [
    {
     "name": "stdout",
     "output_type": "stream",
     "text": [
      "Transformation Pipeline and Model Successfully Loaded\n"
     ]
    }
   ],
   "source": [
    "saved_iforest = load_model('saved_iforest_model')"
   ]
  },
  {
   "cell_type": "code",
   "execution_count": 87,
   "id": "55c57ac4",
   "metadata": {},
   "outputs": [],
   "source": [
    "pred = predict_model(saved_iforest, data = test)"
   ]
  },
  {
   "cell_type": "code",
   "execution_count": 88,
   "id": "64ed7cc2",
   "metadata": {},
   "outputs": [
    {
     "data": {
      "text/html": [
       "<div>\n",
       "<style scoped>\n",
       "    .dataframe tbody tr th:only-of-type {\n",
       "        vertical-align: middle;\n",
       "    }\n",
       "\n",
       "    .dataframe tbody tr th {\n",
       "        vertical-align: top;\n",
       "    }\n",
       "\n",
       "    .dataframe thead th {\n",
       "        text-align: right;\n",
       "    }\n",
       "</style>\n",
       "<table border=\"1\" class=\"dataframe\">\n",
       "  <thead>\n",
       "    <tr style=\"text-align: right;\">\n",
       "      <th></th>\n",
       "      <th>current</th>\n",
       "      <th>current_signature_analysis</th>\n",
       "      <th>VI_analysis</th>\n",
       "      <th>Anomaly</th>\n",
       "      <th>Anomaly_Score</th>\n",
       "    </tr>\n",
       "  </thead>\n",
       "  <tbody>\n",
       "    <tr>\n",
       "      <th>3470000</th>\n",
       "      <td>1741</td>\n",
       "      <td>2212</td>\n",
       "      <td>762</td>\n",
       "      <td>0</td>\n",
       "      <td>-0.073564</td>\n",
       "    </tr>\n",
       "    <tr>\n",
       "      <th>3470001</th>\n",
       "      <td>1741</td>\n",
       "      <td>2211</td>\n",
       "      <td>760</td>\n",
       "      <td>0</td>\n",
       "      <td>-0.070662</td>\n",
       "    </tr>\n",
       "    <tr>\n",
       "      <th>3470002</th>\n",
       "      <td>1742</td>\n",
       "      <td>2209</td>\n",
       "      <td>770</td>\n",
       "      <td>0</td>\n",
       "      <td>-0.074826</td>\n",
       "    </tr>\n",
       "    <tr>\n",
       "      <th>3470003</th>\n",
       "      <td>1746</td>\n",
       "      <td>2204</td>\n",
       "      <td>772</td>\n",
       "      <td>0</td>\n",
       "      <td>-0.074633</td>\n",
       "    </tr>\n",
       "    <tr>\n",
       "      <th>3470004</th>\n",
       "      <td>1747</td>\n",
       "      <td>1967</td>\n",
       "      <td>822</td>\n",
       "      <td>1</td>\n",
       "      <td>0.028274</td>\n",
       "    </tr>\n",
       "  </tbody>\n",
       "</table>\n",
       "</div>"
      ],
      "text/plain": [
       "         current  current_signature_analysis  VI_analysis  Anomaly  \\\n",
       "3470000     1741                        2212          762        0   \n",
       "3470001     1741                        2211          760        0   \n",
       "3470002     1742                        2209          770        0   \n",
       "3470003     1746                        2204          772        0   \n",
       "3470004     1747                        1967          822        1   \n",
       "\n",
       "         Anomaly_Score  \n",
       "3470000      -0.073564  \n",
       "3470001      -0.070662  \n",
       "3470002      -0.074826  \n",
       "3470003      -0.074633  \n",
       "3470004       0.028274  "
      ]
     },
     "execution_count": 88,
     "metadata": {},
     "output_type": "execute_result"
    }
   ],
   "source": [
    "pred.head()"
   ]
  },
  {
   "cell_type": "code",
   "execution_count": 106,
   "id": "de5cea52",
   "metadata": {},
   "outputs": [],
   "source": [
    "train_results_anomaly = iforest_results[iforest_results['Anomaly'] == 1]"
   ]
  },
  {
   "cell_type": "code",
   "execution_count": 107,
   "id": "f9ff92d6",
   "metadata": {},
   "outputs": [
    {
     "data": {
      "text/html": [
       "<div>\n",
       "<style scoped>\n",
       "    .dataframe tbody tr th:only-of-type {\n",
       "        vertical-align: middle;\n",
       "    }\n",
       "\n",
       "    .dataframe tbody tr th {\n",
       "        vertical-align: top;\n",
       "    }\n",
       "\n",
       "    .dataframe thead th {\n",
       "        text-align: right;\n",
       "    }\n",
       "</style>\n",
       "<table border=\"1\" class=\"dataframe\">\n",
       "  <thead>\n",
       "    <tr style=\"text-align: right;\">\n",
       "      <th></th>\n",
       "      <th>current</th>\n",
       "      <th>current_signature_analysis</th>\n",
       "      <th>VI_analysis</th>\n",
       "      <th>Anomaly</th>\n",
       "      <th>Anomaly_Score</th>\n",
       "    </tr>\n",
       "  </thead>\n",
       "  <tbody>\n",
       "    <tr>\n",
       "      <th>1</th>\n",
       "      <td>1757</td>\n",
       "      <td>2423</td>\n",
       "      <td>757</td>\n",
       "      <td>1</td>\n",
       "      <td>0.021140</td>\n",
       "    </tr>\n",
       "    <tr>\n",
       "      <th>40</th>\n",
       "      <td>1933</td>\n",
       "      <td>1918</td>\n",
       "      <td>569</td>\n",
       "      <td>1</td>\n",
       "      <td>0.025109</td>\n",
       "    </tr>\n",
       "    <tr>\n",
       "      <th>235</th>\n",
       "      <td>1762</td>\n",
       "      <td>2416</td>\n",
       "      <td>765</td>\n",
       "      <td>1</td>\n",
       "      <td>0.020383</td>\n",
       "    </tr>\n",
       "    <tr>\n",
       "      <th>392</th>\n",
       "      <td>2026</td>\n",
       "      <td>1985</td>\n",
       "      <td>373</td>\n",
       "      <td>1</td>\n",
       "      <td>0.023814</td>\n",
       "    </tr>\n",
       "    <tr>\n",
       "      <th>510</th>\n",
       "      <td>1948</td>\n",
       "      <td>1971</td>\n",
       "      <td>549</td>\n",
       "      <td>1</td>\n",
       "      <td>0.007325</td>\n",
       "    </tr>\n",
       "  </tbody>\n",
       "</table>\n",
       "</div>"
      ],
      "text/plain": [
       "     current  current_signature_analysis  VI_analysis  Anomaly  Anomaly_Score\n",
       "1       1757                        2423          757        1       0.021140\n",
       "40      1933                        1918          569        1       0.025109\n",
       "235     1762                        2416          765        1       0.020383\n",
       "392     2026                        1985          373        1       0.023814\n",
       "510     1948                        1971          549        1       0.007325"
      ]
     },
     "execution_count": 107,
     "metadata": {},
     "output_type": "execute_result"
    }
   ],
   "source": [
    "train_results_anomaly.head()"
   ]
  },
  {
   "cell_type": "code",
   "execution_count": 104,
   "id": "eeb4ae54",
   "metadata": {},
   "outputs": [
    {
     "data": {
      "text/plain": [
       "(173493, 5)"
      ]
     },
     "execution_count": 104,
     "metadata": {},
     "output_type": "execute_result"
    }
   ],
   "source": [
    "train_results_anomaly.shape"
   ]
  },
  {
   "cell_type": "code",
   "execution_count": 108,
   "id": "359783bd",
   "metadata": {},
   "outputs": [],
   "source": [
    "test_results_anomaly = pred[pred['Anomaly'] == 1]"
   ]
  },
  {
   "cell_type": "code",
   "execution_count": 109,
   "id": "7e90dd3d",
   "metadata": {},
   "outputs": [
    {
     "data": {
      "text/plain": [
       "(42747, 5)"
      ]
     },
     "execution_count": 109,
     "metadata": {},
     "output_type": "execute_result"
    }
   ],
   "source": [
    "test_results_anomaly.shape"
   ]
  },
  {
   "cell_type": "code",
   "execution_count": 110,
   "id": "978f8126",
   "metadata": {},
   "outputs": [],
   "source": [
    "# using ISOLATION FOREST\n",
    "# Total anomaly count in training data 173493\n",
    "# Total anomaly count in testing data 42747"
   ]
  },
  {
   "cell_type": "code",
   "execution_count": null,
   "id": "e75657f6",
   "metadata": {},
   "outputs": [],
   "source": []
  },
  {
   "cell_type": "markdown",
   "id": "10f942de",
   "metadata": {},
   "source": [
    "##  CLUSTERING"
   ]
  },
  {
   "cell_type": "code",
   "execution_count": 91,
   "id": "da194708",
   "metadata": {},
   "outputs": [],
   "source": [
    "cluster = create_model('cluster')"
   ]
  },
  {
   "cell_type": "code",
   "execution_count": 92,
   "id": "500a36a4",
   "metadata": {},
   "outputs": [],
   "source": [
    "cluster_results = assign_model(cluster)"
   ]
  },
  {
   "cell_type": "code",
   "execution_count": 93,
   "id": "91b03e3f",
   "metadata": {},
   "outputs": [
    {
     "data": {
      "text/html": [
       "<div>\n",
       "<style scoped>\n",
       "    .dataframe tbody tr th:only-of-type {\n",
       "        vertical-align: middle;\n",
       "    }\n",
       "\n",
       "    .dataframe tbody tr th {\n",
       "        vertical-align: top;\n",
       "    }\n",
       "\n",
       "    .dataframe thead th {\n",
       "        text-align: right;\n",
       "    }\n",
       "</style>\n",
       "<table border=\"1\" class=\"dataframe\">\n",
       "  <thead>\n",
       "    <tr style=\"text-align: right;\">\n",
       "      <th></th>\n",
       "      <th>current</th>\n",
       "      <th>current_signature_analysis</th>\n",
       "      <th>VI_analysis</th>\n",
       "      <th>Anomaly</th>\n",
       "      <th>Anomaly_Score</th>\n",
       "    </tr>\n",
       "  </thead>\n",
       "  <tbody>\n",
       "    <tr>\n",
       "      <th>0</th>\n",
       "      <td>1767</td>\n",
       "      <td>2425</td>\n",
       "      <td>384</td>\n",
       "      <td>0</td>\n",
       "      <td>0.159209</td>\n",
       "    </tr>\n",
       "    <tr>\n",
       "      <th>1</th>\n",
       "      <td>1757</td>\n",
       "      <td>2423</td>\n",
       "      <td>757</td>\n",
       "      <td>1</td>\n",
       "      <td>1.082221</td>\n",
       "    </tr>\n",
       "    <tr>\n",
       "      <th>2</th>\n",
       "      <td>1732</td>\n",
       "      <td>2218</td>\n",
       "      <td>759</td>\n",
       "      <td>0</td>\n",
       "      <td>0.187659</td>\n",
       "    </tr>\n",
       "    <tr>\n",
       "      <th>3</th>\n",
       "      <td>1732</td>\n",
       "      <td>2212</td>\n",
       "      <td>765</td>\n",
       "      <td>0</td>\n",
       "      <td>0.220387</td>\n",
       "    </tr>\n",
       "    <tr>\n",
       "      <th>4</th>\n",
       "      <td>1739</td>\n",
       "      <td>2210</td>\n",
       "      <td>769</td>\n",
       "      <td>0</td>\n",
       "      <td>0.230448</td>\n",
       "    </tr>\n",
       "  </tbody>\n",
       "</table>\n",
       "</div>"
      ],
      "text/plain": [
       "   current  current_signature_analysis  VI_analysis  Anomaly  Anomaly_Score\n",
       "0     1767                        2425          384        0       0.159209\n",
       "1     1757                        2423          757        1       1.082221\n",
       "2     1732                        2218          759        0       0.187659\n",
       "3     1732                        2212          765        0       0.220387\n",
       "4     1739                        2210          769        0       0.230448"
      ]
     },
     "execution_count": 93,
     "metadata": {},
     "output_type": "execute_result"
    }
   ],
   "source": [
    "cluster_results.head()"
   ]
  },
  {
   "cell_type": "code",
   "execution_count": 94,
   "id": "840e59e3",
   "metadata": {},
   "outputs": [
    {
     "name": "stdout",
     "output_type": "stream",
     "text": [
      "Transformation Pipeline and Model Successfully Saved\n"
     ]
    },
    {
     "data": {
      "text/plain": [
       "(Pipeline(memory=None,\n",
       "          steps=[('dtypes',\n",
       "                  DataTypes_Auto_infer(categorical_features=[],\n",
       "                                       display_types=True, features_todrop=[],\n",
       "                                       id_columns=[], ml_usecase='regression',\n",
       "                                       numerical_features=[],\n",
       "                                       target='UNSUPERVISED_DUMMY_TARGET',\n",
       "                                       time_features=[])),\n",
       "                 ('imputer',\n",
       "                  Simple_Imputer(categorical_strategy='most frequent',\n",
       "                                 fill_value_categorical=None,\n",
       "                                 fill_value_numerical=None...\n",
       "                 ('fix_perfect', 'passthrough'),\n",
       "                 ('clean_names', Clean_Colum_Names()),\n",
       "                 ('feature_select', 'passthrough'), ('fix_multi', 'passthrough'),\n",
       "                 ('dfs', 'passthrough'), ('pca', 'passthrough'),\n",
       "                 ['trained_model',\n",
       "                  CBLOF(alpha=0.9, beta=5, check_estimator=False, clustering_estimator=None,\n",
       "    contamination=0.05, n_clusters=8, n_jobs=None, random_state=2446,\n",
       "    use_weights=False)]],\n",
       "          verbose=False),\n",
       " 'saved_cluster_model.pkl')"
      ]
     },
     "execution_count": 94,
     "metadata": {},
     "output_type": "execute_result"
    }
   ],
   "source": [
    "save_model(cluster, 'saved_cluster_model')"
   ]
  },
  {
   "cell_type": "code",
   "execution_count": 95,
   "id": "cb4cb481",
   "metadata": {},
   "outputs": [
    {
     "name": "stdout",
     "output_type": "stream",
     "text": [
      "Transformation Pipeline and Model Successfully Loaded\n"
     ]
    }
   ],
   "source": [
    "saved_cluster = load_model('saved_cluster_model')"
   ]
  },
  {
   "cell_type": "code",
   "execution_count": 96,
   "id": "37f793b4",
   "metadata": {},
   "outputs": [],
   "source": [
    "pred1 = predict_model(saved_cluster, data = test)"
   ]
  },
  {
   "cell_type": "code",
   "execution_count": 97,
   "id": "e73bea9f",
   "metadata": {},
   "outputs": [
    {
     "data": {
      "text/html": [
       "<div>\n",
       "<style scoped>\n",
       "    .dataframe tbody tr th:only-of-type {\n",
       "        vertical-align: middle;\n",
       "    }\n",
       "\n",
       "    .dataframe tbody tr th {\n",
       "        vertical-align: top;\n",
       "    }\n",
       "\n",
       "    .dataframe thead th {\n",
       "        text-align: right;\n",
       "    }\n",
       "</style>\n",
       "<table border=\"1\" class=\"dataframe\">\n",
       "  <thead>\n",
       "    <tr style=\"text-align: right;\">\n",
       "      <th></th>\n",
       "      <th>current</th>\n",
       "      <th>current_signature_analysis</th>\n",
       "      <th>VI_analysis</th>\n",
       "      <th>Anomaly</th>\n",
       "      <th>Anomaly_Score</th>\n",
       "    </tr>\n",
       "  </thead>\n",
       "  <tbody>\n",
       "    <tr>\n",
       "      <th>3470000</th>\n",
       "      <td>1741</td>\n",
       "      <td>2212</td>\n",
       "      <td>762</td>\n",
       "      <td>0</td>\n",
       "      <td>0.201778</td>\n",
       "    </tr>\n",
       "    <tr>\n",
       "      <th>3470001</th>\n",
       "      <td>1741</td>\n",
       "      <td>2211</td>\n",
       "      <td>760</td>\n",
       "      <td>0</td>\n",
       "      <td>0.198508</td>\n",
       "    </tr>\n",
       "    <tr>\n",
       "      <th>3470002</th>\n",
       "      <td>1742</td>\n",
       "      <td>2209</td>\n",
       "      <td>770</td>\n",
       "      <td>0</td>\n",
       "      <td>0.235141</td>\n",
       "    </tr>\n",
       "    <tr>\n",
       "      <th>3470003</th>\n",
       "      <td>1746</td>\n",
       "      <td>2204</td>\n",
       "      <td>772</td>\n",
       "      <td>0</td>\n",
       "      <td>0.256504</td>\n",
       "    </tr>\n",
       "    <tr>\n",
       "      <th>3470004</th>\n",
       "      <td>1747</td>\n",
       "      <td>1967</td>\n",
       "      <td>822</td>\n",
       "      <td>1</td>\n",
       "      <td>0.906612</td>\n",
       "    </tr>\n",
       "    <tr>\n",
       "      <th>...</th>\n",
       "      <td>...</td>\n",
       "      <td>...</td>\n",
       "      <td>...</td>\n",
       "      <td>...</td>\n",
       "      <td>...</td>\n",
       "    </tr>\n",
       "    <tr>\n",
       "      <th>4469995</th>\n",
       "      <td>1755</td>\n",
       "      <td>2192</td>\n",
       "      <td>774</td>\n",
       "      <td>0</td>\n",
       "      <td>0.310984</td>\n",
       "    </tr>\n",
       "    <tr>\n",
       "      <th>4469996</th>\n",
       "      <td>1757</td>\n",
       "      <td>2191</td>\n",
       "      <td>776</td>\n",
       "      <td>0</td>\n",
       "      <td>0.322253</td>\n",
       "    </tr>\n",
       "    <tr>\n",
       "      <th>4469997</th>\n",
       "      <td>1763</td>\n",
       "      <td>2189</td>\n",
       "      <td>781</td>\n",
       "      <td>0</td>\n",
       "      <td>0.351203</td>\n",
       "    </tr>\n",
       "    <tr>\n",
       "      <th>4469998</th>\n",
       "      <td>1764</td>\n",
       "      <td>2183</td>\n",
       "      <td>779</td>\n",
       "      <td>0</td>\n",
       "      <td>0.370832</td>\n",
       "    </tr>\n",
       "    <tr>\n",
       "      <th>4469999</th>\n",
       "      <td>1770</td>\n",
       "      <td>2173</td>\n",
       "      <td>780</td>\n",
       "      <td>0</td>\n",
       "      <td>0.424423</td>\n",
       "    </tr>\n",
       "  </tbody>\n",
       "</table>\n",
       "<p>1000000 rows × 5 columns</p>\n",
       "</div>"
      ],
      "text/plain": [
       "         current  current_signature_analysis  VI_analysis  Anomaly  \\\n",
       "3470000     1741                        2212          762        0   \n",
       "3470001     1741                        2211          760        0   \n",
       "3470002     1742                        2209          770        0   \n",
       "3470003     1746                        2204          772        0   \n",
       "3470004     1747                        1967          822        1   \n",
       "...          ...                         ...          ...      ...   \n",
       "4469995     1755                        2192          774        0   \n",
       "4469996     1757                        2191          776        0   \n",
       "4469997     1763                        2189          781        0   \n",
       "4469998     1764                        2183          779        0   \n",
       "4469999     1770                        2173          780        0   \n",
       "\n",
       "         Anomaly_Score  \n",
       "3470000       0.201778  \n",
       "3470001       0.198508  \n",
       "3470002       0.235141  \n",
       "3470003       0.256504  \n",
       "3470004       0.906612  \n",
       "...                ...  \n",
       "4469995       0.310984  \n",
       "4469996       0.322253  \n",
       "4469997       0.351203  \n",
       "4469998       0.370832  \n",
       "4469999       0.424423  \n",
       "\n",
       "[1000000 rows x 5 columns]"
      ]
     },
     "execution_count": 97,
     "metadata": {},
     "output_type": "execute_result"
    }
   ],
   "source": [
    "pred1"
   ]
  },
  {
   "cell_type": "code",
   "execution_count": 111,
   "id": "ebe2e352",
   "metadata": {},
   "outputs": [],
   "source": [
    "train_result = cluster_results[cluster_results['Anomaly'] == 1]"
   ]
  },
  {
   "cell_type": "code",
   "execution_count": 112,
   "id": "7c0045a1",
   "metadata": {},
   "outputs": [
    {
     "data": {
      "text/html": [
       "<div>\n",
       "<style scoped>\n",
       "    .dataframe tbody tr th:only-of-type {\n",
       "        vertical-align: middle;\n",
       "    }\n",
       "\n",
       "    .dataframe tbody tr th {\n",
       "        vertical-align: top;\n",
       "    }\n",
       "\n",
       "    .dataframe thead th {\n",
       "        text-align: right;\n",
       "    }\n",
       "</style>\n",
       "<table border=\"1\" class=\"dataframe\">\n",
       "  <thead>\n",
       "    <tr style=\"text-align: right;\">\n",
       "      <th></th>\n",
       "      <th>current</th>\n",
       "      <th>current_signature_analysis</th>\n",
       "      <th>VI_analysis</th>\n",
       "      <th>Anomaly</th>\n",
       "      <th>Anomaly_Score</th>\n",
       "    </tr>\n",
       "  </thead>\n",
       "  <tbody>\n",
       "    <tr>\n",
       "      <th>1</th>\n",
       "      <td>1757</td>\n",
       "      <td>2423</td>\n",
       "      <td>757</td>\n",
       "      <td>1</td>\n",
       "      <td>1.082221</td>\n",
       "    </tr>\n",
       "    <tr>\n",
       "      <th>40</th>\n",
       "      <td>1933</td>\n",
       "      <td>1918</td>\n",
       "      <td>569</td>\n",
       "      <td>1</td>\n",
       "      <td>0.808057</td>\n",
       "    </tr>\n",
       "    <tr>\n",
       "      <th>80</th>\n",
       "      <td>2108</td>\n",
       "      <td>2275</td>\n",
       "      <td>103</td>\n",
       "      <td>1</td>\n",
       "      <td>0.954458</td>\n",
       "    </tr>\n",
       "    <tr>\n",
       "      <th>81</th>\n",
       "      <td>2102</td>\n",
       "      <td>2282</td>\n",
       "      <td>76</td>\n",
       "      <td>1</td>\n",
       "      <td>0.910366</td>\n",
       "    </tr>\n",
       "    <tr>\n",
       "      <th>82</th>\n",
       "      <td>2092</td>\n",
       "      <td>2294</td>\n",
       "      <td>70</td>\n",
       "      <td>1</td>\n",
       "      <td>0.829738</td>\n",
       "    </tr>\n",
       "  </tbody>\n",
       "</table>\n",
       "</div>"
      ],
      "text/plain": [
       "    current  current_signature_analysis  VI_analysis  Anomaly  Anomaly_Score\n",
       "1      1757                        2423          757        1       1.082221\n",
       "40     1933                        1918          569        1       0.808057\n",
       "80     2108                        2275          103        1       0.954458\n",
       "81     2102                        2282           76        1       0.910366\n",
       "82     2092                        2294           70        1       0.829738"
      ]
     },
     "execution_count": 112,
     "metadata": {},
     "output_type": "execute_result"
    }
   ],
   "source": [
    "train_result.head()"
   ]
  },
  {
   "cell_type": "code",
   "execution_count": 113,
   "id": "bac8c51b",
   "metadata": {},
   "outputs": [
    {
     "data": {
      "text/plain": [
       "(173499, 5)"
      ]
     },
     "execution_count": 113,
     "metadata": {},
     "output_type": "execute_result"
    }
   ],
   "source": [
    "train_result.shape"
   ]
  },
  {
   "cell_type": "code",
   "execution_count": 114,
   "id": "13247c85",
   "metadata": {},
   "outputs": [],
   "source": [
    "test_result = pred1[pred1['Anomaly'] == 1]"
   ]
  },
  {
   "cell_type": "code",
   "execution_count": 115,
   "id": "3e8baf34",
   "metadata": {},
   "outputs": [
    {
     "data": {
      "text/plain": [
       "(45413, 5)"
      ]
     },
     "execution_count": 115,
     "metadata": {},
     "output_type": "execute_result"
    }
   ],
   "source": [
    "test_result.shape"
   ]
  },
  {
   "cell_type": "code",
   "execution_count": 116,
   "id": "a7b94ad9",
   "metadata": {},
   "outputs": [],
   "source": [
    "# using CLUSTERING\n",
    "# Total anomaly count in training data 173499\n",
    "# Total anomaly count in testing data 45413"
   ]
  },
  {
   "cell_type": "code",
   "execution_count": null,
   "id": "087b94e2",
   "metadata": {},
   "outputs": [],
   "source": []
  }
 ],
 "metadata": {
  "kernelspec": {
   "display_name": "myenv",
   "language": "python",
   "name": "myenv"
  },
  "language_info": {
   "codemirror_mode": {
    "name": "ipython",
    "version": 3
   },
   "file_extension": ".py",
   "mimetype": "text/x-python",
   "name": "python",
   "nbconvert_exporter": "python",
   "pygments_lexer": "ipython3",
   "version": "3.8.16"
  }
 },
 "nbformat": 4,
 "nbformat_minor": 5
}
